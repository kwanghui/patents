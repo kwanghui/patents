{
 "metadata": {
  "name": "Patent Database Stat Report"
 },
 "nbformat": 3,
 "nbformat_minor": 0,
 "worksheets": [
  {
   "cells": [
    {
     "cell_type": "markdown",
     "metadata": {},
     "source": [
      "The purpose of this file is to quickly and easily compute and display a statistical report of the generated patent databases."
     ]
    },
    {
     "cell_type": "code",
     "collapsed": false,
     "input": [
      "import numpy as np\n",
      "import matplotlib.pyplot as plt\n",
      "import sqlite3\n",
      "databases = ['assignee','citation','class','inventor','patent','patdesc','lawyer','sciref','usreldoc']\n",
      "for table in databases:\n",
      "    conn = sqlite3.connect('{0}.sqlite3'.format(table))\n",
      "    cursor = conn.cursor()\n",
      "    res = cursor.execute('select count(*) from {0}'.format(table))\n",
      "    print table,':',res.fetchall()[0][0], 'records'\n",
      "    conn.close()"
     ],
     "language": "python",
     "metadata": {},
     "outputs": [
      {
       "output_type": "stream",
       "stream": "stdout",
       "text": [
        "assignee : 4903 records\n",
        "citation : 175005 records\n",
        "class : 19656 records\n",
        "inventor : 13882 records\n",
        "patent : 5292 records\n",
        "patdesc : 5292 records\n",
        "lawyer : 5878 records\n",
        "sciref : 42358 records\n",
        "usreldoc : 2608 records\n"
       ]
      }
     ],
     "prompt_number": 23
    },
    {
     "cell_type": "heading",
     "level": 2,
     "metadata": {},
     "source": [
      "Inventor Table Statistics"
     ]
    },
    {
     "cell_type": "markdown",
     "metadata": {},
     "source": [
      "Histogram of number of inventors per patent, with mean"
     ]
    },
    {
     "cell_type": "code",
     "collapsed": false,
     "input": [
      "conn = sqlite3.connect('inventor.sqlite3')\n",
      "cursor = conn.cursor()\n",
      "results = cursor.execute('select count(*) from inventor group by Patent;')\n",
      "inventor_counts = [x[0] for x in results.fetchall()] # we get a list of tuples, so transform it to a regular list\n",
      "fig = plt.figure()\n",
      "histogram = fig.add_subplot(111)\n",
      "n, bins, patches = histogram.hist(inventor_counts)\n",
      "histogram.set_xlabel('Number of Inventors')\n",
      "histogram.set_ylabel('Patent Count')\n",
      "plt.show()\n",
      "print 'Average Number of Inventors per Patent', np.mean(inventor_counts)\n",
      "conn.close()"
     ],
     "language": "python",
     "metadata": {},
     "outputs": [
      {
       "output_type": "display_data",
       "png": "[encoded data removed]"
      },
      {
       "output_type": "stream",
       "stream": "stdout",
       "text": [
        "Average Number of Inventors per Patent 2.62320483749\n"
       ]
      }
     ],
     "prompt_number": 51
    },
    {
     "cell_type": "heading",
     "level": 2,
     "metadata": {},
     "source": [
      "Citation Table Statistics"
     ]
    },
    {
     "cell_type": "markdown",
     "metadata": {},
     "source": [
      "Histogram with number of citations per patent, with mean"
     ]
    },
    {
     "cell_type": "code",
     "collapsed": false,
     "input": [
      "conn = sqlite3.connect('citation.sqlite3')\n",
      "cursor = conn.cursor()\n",
      "results = cursor.execute('select count(*) from citation group by Patent;')\n",
      "citation_counts = [x[0] for x in results.fetchall()] # we get a list of tuples, so transform it to a regular list\n",
      "\n",
      "fig = plt.figure()\n",
      "histogram = fig.add_subplot(111)\n",
      "histogram.set_xscale('log')\n",
      "bins = range(1,5)\n",
      "bins.extend(list(np.logspace(1,5,base=5)))\n",
      "n, bins, patches = histogram.hist(citation_counts, bins=bins, histtype='stepfilled')\n",
      "histogram.set_xlabel('Number of Citations Cited per Patent')\n",
      "histogram.set_ylabel('Patent Count')\n",
      "plt.show()\n",
      "print 'Average Number of Citations per Patent', np.mean(citation_counts)\n",
      "conn.close()"
     ],
     "language": "python",
     "metadata": {},
     "outputs": [
      {
       "output_type": "display_data",
       "png": "[encoded data removed]"
      },
      {
       "output_type": "stream",
       "stream": "stdout",
       "text": [
        "Average Number of Citations per Patent 33.2709125475\n"
       ]
      }
     ],
     "prompt_number": 104
    },
    {
     "cell_type": "markdown",
     "metadata": {},
     "source": [
      "Histogram with number of citations per patent, with mean"
     ]
    },
    {
     "cell_type": "code",
     "collapsed": false,
     "input": [],
     "language": "python",
     "metadata": {},
     "outputs": []
    }
   ],
   "metadata": {}
  }
 ]
}